{
 "cells": [
  {
   "cell_type": "markdown",
   "metadata": {},
   "source": [
    "##### BSc (Hons) in Computing in Software Development\n",
    "##### Emerging Teschnolgies Task 1\n",
    "###### Grace Keane - G00359990\n",
    "\n",
    "---\n",
    "\n",
    "\n",
    "###### Task:\n",
    "Python function called sqrt2 that calculates and\n",
    "prints to the screen the square root of 2 to 100 decimal places. Code does\n",
    "not depend on any module from the standard library or otherwise.\n",
    "\n",
    "In order to correctly solve task 1 I researched the basic concept of square root. Square root is essentially figuring out what number multiplied by itself is equal to the number under the square root symbol. [4].\n",
    "\n",
    "For example - $\\sqrt{4}$ $= 2$ because $2\\times2$ = $4$, $\\sqrt{9}$ = $3$, because $3\\times3$ = $9$. [5] [6].\n",
    "\n",
    "###### Newtons's method & equation\n",
    "We can calculate the square root of a given number by using Newton's method [1]. Newton's method is names after Isaac Newton and Joseph Raphson. It is a root-finding algorithm which calculates successively better approximations to root's of a real-valued function. The most basic format starts as $f'$, the initial guess $x_o$  for a root of $f$. The main idea is to start with an initial guess which is relatively close to the correct root. [2].\n",
    "\n",
    "To find the square root of $z$ of a number $x$, we can use the following mathematical equation.\n",
    "\n",
    "$ z_{next} = z - \\frac{z^2 - x}{2z} $\n",
    "\n",
    "[7].\n",
    "- $z_{next}$ - next best approximation for $z$.\n",
    "- $z$ - represents the old value of $z$.\n",
    "- $ \\frac{z^2 - x}{2z}$ - subtract the old value of $z^2$ minus $x$ over $2z$.\n",
    "\n",
    "###### Referances\n",
    "[1] A Tour of Go; Excercise: Loops and Functions; \n",
    "\n",
    "https://tour.golang.org/flowcontrol/8\n",
    "\n",
    "[2] Newton's method; \n",
    "\n",
    "https://en.wikipedia.org/wiki/Newton%27s_method\n",
    "\n",
    "[3] GeeksforGeeks; Finding root of a number using Newton's method;\n",
    "\n",
    "https://www.geeksforgeeks.org/find-root-of-a-number-using-newtons-method/\n",
    "\n",
    "[4] Wikipedia; Square root; \n",
    "\n",
    "https://en.wikipedia.org/wiki/Square_root\n",
    "\n",
    "[5] DataCamp; Mathematical Symbol; & DataCamp; Horizontal Line;\n",
    "\n",
    "https://www.datacamp.com/community/tutorials/markdown-in-jupyter-notebook\n",
    "\n",
    "[6] StackExchange; How to write N x N(with a multiplication symbol, for matrix dimensions)?;\n",
    "\n",
    "https://tex.stackexchange.com/a/15131\n",
    "\n",
    "[7] Markdown for Jupyter notebooks cheatsheet; Bullets;\n",
    "\n",
    "https://medium.com/@ingeh/markdown-for-jupyter-notebooks-cheatsheet-386c05aeebed\n",
    "\n"
   ]
  },
  {
   "cell_type": "markdown",
   "metadata": {},
   "source": [
    "###### Diagrams\n",
    "\n",
    "Newtons method can also be represented in a graph form.\n",
    "\n",
    "Graph & explanation goes here\n"
   ]
  },
  {
   "cell_type": "markdown",
   "metadata": {},
   "source": [
    "###### Method : 1"
   ]
  },
  {
   "cell_type": "code",
   "execution_count": 1,
   "metadata": {},
   "outputs": [],
   "source": [
    "def sqrt(x):\n",
    "    \"\"\"\n",
    "    Function to calculate the square root of x\n",
    "    \"\"\"\n",
    "    # Initial guess for square root calculation = z\n",
    "    z = x / 2\n",
    "    \n",
    "    # Loop until accurate\n",
    "    while abs(x - (z * z)) > 0.000001:\n",
    "        # Calculating better guess for the square root.\n",
    "        z -= (z * z - x) / (2 * z)\n",
    "    \n",
    "    # Returning the approximate square root of x to 100 decimal places\n",
    "    return print(\"%.100f\" % z)\n",
    "    "
   ]
  },
  {
   "cell_type": "markdown",
   "metadata": {},
   "source": [
    "##### Testing function"
   ]
  },
  {
   "cell_type": "code",
   "execution_count": 2,
   "metadata": {},
   "outputs": [
    {
     "name": "stdout",
     "output_type": "stream",
     "text": [
      "10.0000000001074464961448029498569667339324951171875000000000000000000000000000000000000000000000000000\n"
     ]
    }
   ],
   "source": [
    "# Test the function using the number 100\n",
    "sqrt(100)"
   ]
  },
  {
   "cell_type": "code",
   "execution_count": 3,
   "metadata": {},
   "outputs": [
    {
     "data": {
      "text/plain": [
       "10.0"
      ]
     },
     "execution_count": 3,
     "metadata": {},
     "output_type": "execute_result"
    }
   ],
   "source": [
    "import math\n",
    "math.sqrt(100)"
   ]
  },
  {
   "cell_type": "code",
   "execution_count": 4,
   "metadata": {},
   "outputs": [
    {
     "name": "stdout",
     "output_type": "stream",
     "text": [
      "1.4142135623746898698271934335934929549694061279296875000000000000000000000000000000000000000000000000\n"
     ]
    }
   ],
   "source": [
    "# Test the function using the number 2\n",
    "sqrt (2)"
   ]
  },
  {
   "cell_type": "code",
   "execution_count": 5,
   "metadata": {},
   "outputs": [
    {
     "data": {
      "text/plain": [
       "1.4142135623730951"
      ]
     },
     "execution_count": 5,
     "metadata": {},
     "output_type": "execute_result"
    }
   ],
   "source": [
    "import math\n",
    "math.sqrt(2)"
   ]
  },
  {
   "cell_type": "markdown",
   "metadata": {},
   "source": [
    "###### Method 2\n",
    "###### Function steps\n",
    "\n",
    "1) Estamate the value of $n$ to be $n$, <br>\n",
    "2) Get a close value to $n$, <br>\n",
    "3) Check the closeness of the value, <br>\n",
    "4) Update the square root, <br>\n",
    "5) Return the square root, <br>\n",
    "6) Print square root to screen to 100 decimal places. <br>"
   ]
  },
  {
   "cell_type": "code",
   "execution_count": 6,
   "metadata": {},
   "outputs": [
    {
     "name": "stdout",
     "output_type": "stream",
     "text": [
      "10.0325785109606044898100662976503372192382812500000000000000000000000000000000000000000000000000000000\n"
     ]
    }
   ],
   "source": [
    "\"\"\"\n",
    "Function to calculate the square root of a given\n",
    "number using Newton's Method. [3]\n",
    "\"\"\"\n",
    "# integer n and a tolerance level l (n, l)\n",
    "\n",
    "def newtons_method(n, l):\n",
    "    # Assuming the square root of n is actually n only\n",
    "    x = n\n",
    "    \n",
    "    # Used to count iterations\n",
    "    count = 0\n",
    "    \n",
    "    while (1):\n",
    "        count += 1 # Adding itenerations by one each time\n",
    "        square_root = 0.5 * (x + (n / x)) # Getting a close value\n",
    "        if (abs(square_root - x) < 1): # Check how close the value is\n",
    "            break\n",
    "            \n",
    "        x = square_root # Updating my square root\n",
    "    \n",
    "    # Return the value of square root\n",
    "    return square_root \n",
    "\n",
    "# Driver code\n",
    "if __name__ == \"__main__\":\n",
    "    n = 100 # Calculatining the square root of 100\n",
    "    l = 0.00001 # Tolerance level\n",
    "    \n",
    "    # Passing n and l into new function called newtons_method &\n",
    "    # calculating square root to 100 decimal places -> \"%.100f\" \n",
    "    print (\"%.100f\" % newtons_method(n, l))\n",
    "    "
   ]
  },
  {
   "cell_type": "markdown",
   "metadata": {},
   "source": [
    "###### Testing function"
   ]
  },
  {
   "cell_type": "code",
   "execution_count": 7,
   "metadata": {},
   "outputs": [
    {
     "name": "stdout",
     "output_type": "stream",
     "text": [
      "10.0000000001074464961448029498569667339324951171875000000000000000000000000000000000000000000000000000\n"
     ]
    }
   ],
   "source": [
    "sqrt(100)"
   ]
  },
  {
   "cell_type": "code",
   "execution_count": 8,
   "metadata": {},
   "outputs": [
    {
     "data": {
      "text/plain": [
       "10.0"
      ]
     },
     "execution_count": 8,
     "metadata": {},
     "output_type": "execute_result"
    }
   ],
   "source": [
    "import math\n",
    "math.sqrt(100)"
   ]
  }
 ],
 "metadata": {
  "kernelspec": {
   "display_name": "Python 3",
   "language": "python",
   "name": "python3"
  },
  "language_info": {
   "codemirror_mode": {
    "name": "ipython",
    "version": 3
   },
   "file_extension": ".py",
   "mimetype": "text/x-python",
   "name": "python",
   "nbconvert_exporter": "python",
   "pygments_lexer": "ipython3",
   "version": "3.8.3"
  }
 },
 "nbformat": 4,
 "nbformat_minor": 4
}
