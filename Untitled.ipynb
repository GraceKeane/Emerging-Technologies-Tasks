{
 "cells": [
  {
   "cell_type": "markdown",
   "metadata": {},
   "source": [
    "##### Emerging Teschnolgies Task 1\n",
    "###### Grace Keane\n",
    "###### ID - G00359990\n",
    "\n",
    "\n",
    "###### Task:\n",
    "Python function called sqrt2 that calculates and\n",
    "prints to the screen the square root of 2 to 100 decimal places. Code should\n",
    "not depend on any module from the standard library1 or otherwise.\n",
    "\n",
    "\n",
    "###### Newton's Equation\n",
    "$$ z = z - \\frac{z^2 - x}{2z} $$\n",
    "\n",
    "\n",
    "###### Referances\n",
    "[1] A Tour of Go; Excercise: Loops and Functions; https://tour.golang.org/flowcontrol/8\n",
    "\n",
    "[2] Newton's method; https://en.wikipedia.org/wiki/Newton%27s_method\n"
   ]
  },
  {
   "cell_type": "code",
   "execution_count": 1,
   "metadata": {},
   "outputs": [],
   "source": [
    "def sqrt(x):\n",
    "    \"\"\"\n",
    "    Function to calculate the square root of x\n",
    "    \"\"\"\n",
    "    # Initial guess for square root calculation = z\n",
    "    z = x / 2\n",
    "    \n",
    "    # Loop until accurate\n",
    "    while abs(x - (z * z)) > 0.000001:\n",
    "        # Calculating better guess for the square root.\n",
    "        z -= (z * z - x) / (2 * z)\n",
    "    \n",
    "    # Returning the approximate square root of x to 100 decimal places\n",
    "    return print(\"%.100f\" % z)\n",
    "    "
   ]
  },
  {
   "cell_type": "markdown",
   "metadata": {},
   "source": [
    "##### Testing function"
   ]
  },
  {
   "cell_type": "code",
   "execution_count": 2,
   "metadata": {},
   "outputs": [
    {
     "name": "stdout",
     "output_type": "stream",
     "text": [
      "10.0000000001074464961448029498569667339324951171875000000000000000000000000000000000000000000000000000\n"
     ]
    }
   ],
   "source": [
    "# Test the function using the number 100\n",
    "sqrt(100)"
   ]
  },
  {
   "cell_type": "code",
   "execution_count": 3,
   "metadata": {},
   "outputs": [
    {
     "name": "stdout",
     "output_type": "stream",
     "text": [
      "1.4142135623746898698271934335934929549694061279296875000000000000000000000000000000000000000000000000\n"
     ]
    }
   ],
   "source": [
    "# Test the function using the number 2\n",
    "sqrt (2)"
   ]
  },
  {
   "cell_type": "code",
   "execution_count": 4,
   "metadata": {},
   "outputs": [
    {
     "data": {
      "text/plain": [
       "1.4142135623730951"
      ]
     },
     "execution_count": 4,
     "metadata": {},
     "output_type": "execute_result"
    }
   ],
   "source": [
    "# Testing the function using the math import\n",
    "# This calculation is done by the math import \n",
    "# program does not follow format of solution above so it will not be to 100 decimal places \n",
    "import math\n",
    "math.sqrt(2)"
   ]
  }
 ],
 "metadata": {
  "kernelspec": {
   "display_name": "Python 3",
   "language": "python",
   "name": "python3"
  },
  "language_info": {
   "codemirror_mode": {
    "name": "ipython",
    "version": 3
   },
   "file_extension": ".py",
   "mimetype": "text/x-python",
   "name": "python",
   "nbconvert_exporter": "python",
   "pygments_lexer": "ipython3",
   "version": "3.8.3"
  }
 },
 "nbformat": 4,
 "nbformat_minor": 4
}
