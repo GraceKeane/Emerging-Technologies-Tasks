{
 "cells": [
  {
   "cell_type": "markdown",
   "metadata": {},
   "source": [
    "##### Emerging Teschnolgies Task 1\n",
    "###### Grace Keane\n",
    "###### ID - G00359990\n",
    "\n",
    "\n",
    "\n",
    "###### Task:\n",
    "Python function called sqrt2 that calculates and\n",
    "prints to the screen the square root of 2 to 100 decimal places. Code does\n",
    "not depend on any module from the standard library or otherwise.\n",
    "\n",
    "###### Newtons's Method\n",
    "Newton's method is names after Isaac Newton and Joseph Raphson. It is a root-finding algorithm which calculates successively better approximations to rootes of a real-valued function. The most basic format starts as $f'$, the initial guess $x^o$  for a root of $f$. The main idea is to start with an initial guess which is relatively close to the correct root.\n",
    "\n",
    "\n",
    "###### Newton's Equation\n",
    "$$ z = z - \\frac{z^2 - x}{2z} $$\n",
    "\n",
    "\n",
    "###### Referances\n",
    "[1] A Tour of Go; Excercise: Loops and Functions; \n",
    "\n",
    "https://tour.golang.org/flowcontrol/8\n",
    "\n",
    "[2] Newton's method; \n",
    "\n",
    "https://en.wikipedia.org/wiki/Newton%27s_method\n",
    "\n",
    "[3] MathJax; Writing Mathematics for MathJax; \n",
    "\n",
    "http://docs.mathjax.org/en/latest/basic/mathematics.html\n",
    "\n",
    "[4] GeeksforGeeks; Finding root of a number using Newton's method\n",
    "\n",
    "https://www.geeksforgeeks.org/find-root-of-a-number-using-newtons-method/\n"
   ]
  },
  {
   "cell_type": "markdown",
   "metadata": {},
   "source": [
    "###### Method : 1"
   ]
  },
  {
   "cell_type": "code",
   "execution_count": 1,
   "metadata": {},
   "outputs": [],
   "source": [
    "def sqrt(x):\n",
    "    \"\"\"\n",
    "    Function to calculate the square root of x\n",
    "    \"\"\"\n",
    "    # Initial guess for square root calculation = z\n",
    "    z = x / 2\n",
    "    \n",
    "    # Loop until accurate\n",
    "    while abs(x - (z * z)) > 0.000001:\n",
    "        # Calculating better guess for the square root.\n",
    "        z -= (z * z - x) / (2 * z)\n",
    "    \n",
    "    # Returning the approximate square root of x to 100 decimal places\n",
    "    return print(\"%.100f\" % z)\n",
    "    "
   ]
  },
  {
   "cell_type": "markdown",
   "metadata": {},
   "source": [
    "##### Testing function"
   ]
  },
  {
   "cell_type": "code",
   "execution_count": 2,
   "metadata": {},
   "outputs": [
    {
     "name": "stdout",
     "output_type": "stream",
     "text": [
      "10.0000000001074464961448029498569667339324951171875000000000000000000000000000000000000000000000000000\n"
     ]
    }
   ],
   "source": [
    "# Test the function using the number 100\n",
    "sqrt(100)"
   ]
  },
  {
   "cell_type": "code",
   "execution_count": 3,
   "metadata": {},
   "outputs": [
    {
     "data": {
      "text/plain": [
       "10.0"
      ]
     },
     "execution_count": 3,
     "metadata": {},
     "output_type": "execute_result"
    }
   ],
   "source": [
    "import math\n",
    "math.sqrt(100)"
   ]
  },
  {
   "cell_type": "code",
   "execution_count": 4,
   "metadata": {},
   "outputs": [
    {
     "name": "stdout",
     "output_type": "stream",
     "text": [
      "1.4142135623746898698271934335934929549694061279296875000000000000000000000000000000000000000000000000\n"
     ]
    }
   ],
   "source": [
    "# Test the function using the number 2\n",
    "sqrt (2)"
   ]
  },
  {
   "cell_type": "code",
   "execution_count": 5,
   "metadata": {},
   "outputs": [
    {
     "data": {
      "text/plain": [
       "1.4142135623730951"
      ]
     },
     "execution_count": 5,
     "metadata": {},
     "output_type": "execute_result"
    }
   ],
   "source": [
    "import math\n",
    "math.sqrt(2)"
   ]
  },
  {
   "cell_type": "markdown",
   "metadata": {},
   "source": [
    "###### Method : 2"
   ]
  },
  {
   "cell_type": "code",
   "execution_count": 6,
   "metadata": {},
   "outputs": [
    {
     "name": "stdout",
     "output_type": "stream",
     "text": [
      "10.0325785109606044898100662976503372192382812500000000000000000000000000000000000000000000000000000000\n"
     ]
    }
   ],
   "source": [
    "# Function to calculate the square root of a given\n",
    "# number using Newton's Method.\n",
    "\n",
    "# integer n and a tolerance level l (n, l)\n",
    "\n",
    "def newtons_method(n, l):\n",
    "    # Assuming the square root of n is actually n only\n",
    "    x = n\n",
    "    \n",
    "    # Used to count iterations\n",
    "    count = 0\n",
    "    \n",
    "    while (1):\n",
    "        count += 1\n",
    "        square_root = 0.5 * (x + (n / x)) # Getting a close val\n",
    "        if (abs(square_root - x) < 1): # Check how close the value is\n",
    "            break\n",
    "            \n",
    "        x = square_root # Updating my square root\n",
    "    \n",
    "    # Return the value of square root\n",
    "    return square_root \n",
    "\n",
    "# Driver code\n",
    "if __name__ == \"__main__\":\n",
    "    n = 100 # number calculating sqrt from\n",
    "    l = 0.00001 # tolerance level\n",
    "    \n",
    "    # Passing n and l into new function\n",
    "    # newtons_method and calculating square root to 100 decimal places\n",
    "    print (\"%.100f\" % newtons_method(n, l))\n",
    "    "
   ]
  },
  {
   "cell_type": "markdown",
   "metadata": {},
   "source": [
    "###### Testing function"
   ]
  },
  {
   "cell_type": "code",
   "execution_count": 7,
   "metadata": {},
   "outputs": [
    {
     "name": "stdout",
     "output_type": "stream",
     "text": [
      "10.0000000001074464961448029498569667339324951171875000000000000000000000000000000000000000000000000000\n"
     ]
    }
   ],
   "source": [
    "sqrt(100)"
   ]
  },
  {
   "cell_type": "code",
   "execution_count": 8,
   "metadata": {},
   "outputs": [
    {
     "data": {
      "text/plain": [
       "10.0"
      ]
     },
     "execution_count": 8,
     "metadata": {},
     "output_type": "execute_result"
    }
   ],
   "source": [
    "import math\n",
    "math.sqrt(100)"
   ]
  }
 ],
 "metadata": {
  "kernelspec": {
   "display_name": "Python 3",
   "language": "python",
   "name": "python3"
  },
  "language_info": {
   "codemirror_mode": {
    "name": "ipython",
    "version": 3
   },
   "file_extension": ".py",
   "mimetype": "text/x-python",
   "name": "python",
   "nbconvert_exporter": "python",
   "pygments_lexer": "ipython3",
   "version": "3.8.3"
  }
 },
 "nbformat": 4,
 "nbformat_minor": 4
}
