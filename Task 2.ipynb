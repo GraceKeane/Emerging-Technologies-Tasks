{
 "cells": [
  {
   "cell_type": "markdown",
   "metadata": {},
   "source": [
    "##### BSc (Hons) in Computing in Software Development\n",
    "##### Emerging Teschnolgies Task 2\n",
    "###### Grace Keane - G00359990\n",
    "\n",
    "---\n",
    "\n",
    "\n",
    "###### Task:"
   ]
  },
  {
   "cell_type": "markdown",
   "metadata": {},
   "source": [
    "The Chi-squared test for independence also called Pearson's Chi-squared test is a statistical\n",
    "hypothesis test like a t-test. It is used to analyse whether two categorical variables\n",
    "are independent. The Wikipedia article gives the table below as an example,\n",
    "stating the Chi-squared value based on it, is approximately $24.6$. Use scipy.stats\n",
    "to verify this value and calculate the associated p value. You should include a short\n",
    "note with references justifying your analysis in a markdown cell.\n",
    "\n",
    "|   Title      |   A  |   B  |   C  |   D  | Total    |\n",
    "|:-------------|:----:|:----:|:----:|:----:|:-------: |\n",
    "| White Collar | 90   | 60   | 104  | 95   |   349    |\n",
    "| Blue Collar  | 30   | 50   | 52   | 20   |   151    |\n",
    "| No Collar    | 30   | 40   | 45   | 35   |   150    |\n",
    "|                                                     |\n",
    "| Total        | 150  | 150  | 200  | 150  |  650     |\n"
   ]
  },
  {
   "cell_type": "markdown",
   "metadata": {},
   "source": [
    "###### Task research\n",
    "\n",
    "A Contingency table (also called crosstab) is used in statistics to summarise the relationship between several categorical variables. For this task I am given data from a city of $1,000,000$ residents with four neighborhoods: $A, B, C,$ and $D$. A random sample of $650$ residents of the city is taken and their occupation is recorded as \"white collar\", \"blue collar\", or \"no collar\". The null hypothesis is that each person's neighborhood of residence is independent of the person's occupational classification. The data is recorded in the contingency table above. Essentially the aim of this task is to conclude whether the two variables (neighborhood and occupation) are related to each other."
   ]
  },
  {
   "cell_type": "markdown",
   "metadata": {},
   "source": [
    "###### Chi-squared test"
   ]
  },
  {
   "cell_type": "markdown",
   "metadata": {},
   "source": [
    "A chi-squared test, also written as $x^2$ test, is a statistical hypothesis test. This test is used to determine whether there is a statistically difference between the expected frequencies and the observed frequencies in one or more categories of a contingency table. The purpose of the test is to evaluate how likely the observed frequencies would be assuming the null hypothesis is true."
   ]
  },
  {
   "cell_type": "markdown",
   "metadata": {},
   "source": [
    "For this calculation the first thing I did was define the null hypothesis which states if there is a relation between the two variables neighborhood and occupation. I used a p-value to verify this hypothesis. I defined a significance factor to determine whether the relation between the variables is of significance. Generally an alpha value of $0.05$ is chosen. This alpha value denotes the probability of erroneously rejecting $H0$ when it is true. A lower alpha value is chosen in cases where we expect more precision. If the p-value for the test comes out to be strictly greater than the alpha value, then $H0$ holds true and if not the $H0$ value is false."
   ]
  },
  {
   "cell_type": "markdown",
   "metadata": {},
   "source": [
    "###### Code"
   ]
  },
  {
   "cell_type": "code",
   "execution_count": 1,
   "metadata": {},
   "outputs": [
    {
     "name": "stdout",
     "output_type": "stream",
     "text": [
      "P value is:  0.0004098425861096696\n",
      "Dependent - has a significant relation\n"
     ]
    }
   ],
   "source": [
    "\"\"\"\n",
    "This method calculated the p value based on the given data and then\n",
    "compares that data with alpha to determine if occupation and neighborhood\n",
    "are related.\n",
    "\"\"\"\n",
    "\n",
    "# Adapted from [3]\n",
    "# Imports\n",
    "from scipy.stats import chi2_contingency \n",
    "import numpy as np\n",
    "\n",
    "# defining the table \n",
    "myTableData = [[90, 60, 104, 95], [30, 50, 51, 20], [30, 40, 45, 35]] \n",
    "\n",
    "# Takes an array as input representing the contingency table\n",
    "# for the two categorical variables. It returns the calculated statistic and\n",
    "# p-value for interpretation as well as the calculated degrees of freedom.\n",
    "stat, p, dof, expected = chi2_contingency(myTableData) \n",
    "  \n",
    "# Interpret p-value\n",
    "alpha = 0.05\n",
    "\n",
    "# Printing p value to screen\n",
    "print(\"P value is:  \" + str(p)) \n",
    "\n",
    "# Determines the null hypothesis by comparing p value with alpha (0.05)\n",
    "# Shows if data set occupation & neighborhood are related\n",
    "if p <= alpha: \n",
    "    print('Dependent - has a significant relation') \n",
    "else: \n",
    "    print('Independent - does not have a significant relation')\n"
   ]
  },
  {
   "cell_type": "code",
   "execution_count": 2,
   "metadata": {},
   "outputs": [
    {
     "data": {
      "text/plain": [
       "(24.5712028585826,\n",
       " 0.0004098425861096696,\n",
       " 6,\n",
       " array([[ 80.53846154,  80.53846154, 107.38461538,  80.53846154],\n",
       "        [ 34.84615385,  34.84615385,  46.46153846,  34.84615385],\n",
       "        [ 34.61538462,  34.61538462,  46.15384615,  34.61538462]]))"
      ]
     },
     "execution_count": 2,
     "metadata": {},
     "output_type": "execute_result"
    }
   ],
   "source": [
    "\"\"\"\n",
    "This is another method which calculates the Chi-squared value,\n",
    "p value and DOF (degree of freedom)\n",
    "\"\"\"\n",
    "\n",
    "# Adapted from [4, 5]\n",
    "# Valid imports\n",
    "from scipy.stats import chi2_contingency\n",
    "# Defining data from contingency table \n",
    "dataSet = np.array([[90, 60, 104, 95], [30, 50, 51, 20], [30, 40, 45, 35]])\n",
    "\n",
    "# Assigning data to be calculated by import chi2_contingency\n",
    "# Printed data should contain... \n",
    "# 1) Chi-squared value (24.6) *\n",
    "# 2) Calculated p value (0.004098425861096696)\n",
    "# 3) DOF - degree of freedom (6)\n",
    "chi2_contingency(dataSet)"
   ]
  },
  {
   "cell_type": "markdown",
   "metadata": {},
   "source": [
    "###### Calculation Conclusion\n",
    "Since p is less than alpha ($0.05$), neighborhood and occupation have a significant relation. From method two I calculated the Chi-squared value to be $24.5712028585826$ which rounds up to $24.6$, therefore the Chi-squared value ($24.6$) stated in the assignment task is correct."
   ]
  },
  {
   "cell_type": "markdown",
   "metadata": {},
   "source": [
    "###### Referances"
   ]
  },
  {
   "cell_type": "markdown",
   "metadata": {},
   "source": [
    "[1] StackOverflow; Tables in Markdown (in Jupyter);\n",
    "\n",
    "https://stackoverflow.com/a/63609790 \n",
    "\n",
    "[2] Wikipedia; Chi-squared test;\n",
    "\n",
    "https://en.wikipedia.org/wiki/Chi-squared_test\n",
    "\n",
    "[3] GeeksforGeeks; Python – Pearson’s Chi-Square Test;\n",
    "\n",
    "https://www.geeksforgeeks.org/python-pearsons-chi-square-test/\n",
    "\n",
    "[4] SciPy.org; Examples;\n",
    "\n",
    "https://docs.scipy.org/doc/scipy/reference/generated/scipy.stats.chi2_contingency.html\n",
    "\n",
    "[5] towards data science; Running Chi-Square Tests with Die Roll Data in Python.\n",
    "\n",
    "https://towardsdatascience.com/running-chi-square-tests-in-python-with-die-roll-data-b9903817c51b"
   ]
  }
 ],
 "metadata": {
  "kernelspec": {
   "display_name": "Python 3",
   "language": "python",
   "name": "python3"
  },
  "language_info": {
   "codemirror_mode": {
    "name": "ipython",
    "version": 3
   },
   "file_extension": ".py",
   "mimetype": "text/x-python",
   "name": "python",
   "nbconvert_exporter": "python",
   "pygments_lexer": "ipython3",
   "version": "3.8.3"
  }
 },
 "nbformat": 4,
 "nbformat_minor": 4
}
