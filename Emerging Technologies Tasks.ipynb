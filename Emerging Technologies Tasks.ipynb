{
 "cells": [
  {
   "cell_type": "markdown",
   "metadata": {},
   "source": [
    "#### BSc (Hons) in Computing in Software Development\n",
    "#### Emerging Teschnolgies Tasks\n",
    "##### Grace Keane - G00359990\n",
    "\n",
    "---\n",
    "\n",
    "\n",
    "### Task 1\n",
    "Write a Python function called sqrt2 that calculates and\n",
    "prints to the screen the square root of 2 to 100 decimal places. Code should \n",
    "not depend on any module from the standard library or otherwise. You should research the task first and include referances and descriptions of your algorithm.\n",
    "\n",
    "In order to correctly solve task 1, I researched the basic concept of the square root function. Square root is essentially figuring out what number multiplied by itself is equal to the number under the square root symbol. [4].\n",
    "\n",
    "For example - $\\sqrt{4}$ $= 2$ because $2\\times2$ = $4$, $\\sqrt{9}$ = $3$, because $3\\times3$ = $9$. [5] [6].\n",
    "\n",
    "###### Newtons's method & equation\n",
    "We can calculate the square root of a given number by using Newton's method [1]. Newton's method is named after Isaac Newton and Joseph Raphson. It is a root-finding algorithm which calculates successively better approximations to root's of a real-valued function. The most basic format starts as $f'$, the initial guess $x_o$  for a root of $f$. The main idea is to start with an initial guess which is relatively close to the correct root. [2].\n",
    "\n",
    "To find the square root of $z$ of a number $x$, we can use the following Newton's mathematical equation.\n",
    "\n",
    "$ z_{next} = z - \\frac{z^2 - x}{2z} $\n",
    "\n",
    "[7].\n",
    "- $z_{next}$ - next best approximation for $z$.\n",
    "- $z$ - represents the old value of $z$.\n",
    "- $ \\frac{z^2 - x}{2z}$ - subtract the old value of $z^2$ minus $x$ over $2z$.\n",
    "\n",
    "###### Graph\n",
    "\n",
    "\n"
   ]
  },
  {
   "cell_type": "markdown",
   "metadata": {},
   "source": [
    "Commands I used to plot this graph. [9].\n",
    "\n",
    "1) import math <br>\n",
    "2) import numpy as np <br>\n",
    "3) import matplotlib.pyplot as plt <br>\n",
    "4) plt.style.use('seaborn-whitegrid') <br>\n",
    "4) x = np.linspace(0.0, 100.0, 1000) <br>\n",
    "5) y = np.sqrt(x) <br>\n",
    "6) y <br>\n",
    "7) plt.plot(x, y) <br>\n",
    "8) plt.xlabel('x axis - numbers you want to square root') <br>\n",
    "9) plt.ylabel('y axis - square root answers') <br>\n",
    "10) plt.show() <br>\n",
    "\n",
    "\n",
    "Square root can also be represented in a graph form. The horizontal axis is called the x-axis and the vertical axis is called the y-axis. The x-axis represents the number I want to square root and the y-axis represents the solution of that square root calculation. The correct answer to the square root calculation is when the x-axis and y-axis intersect. This point is called the origin and therefore the answer.\n",
    "\n",
    "Example $\\sqrt{20}$ $= 4.47$ because the x-axis intersects the y-axis at the 4.47 point."
   ]
  },
  {
   "cell_type": "code",
   "execution_count": 2,
   "metadata": {},
   "outputs": [
    {
     "data": {
      "image/png": "[encoded data removed]",
      "text/plain": [
       "<IPython.core.display.Image object>"
      ]
     },
     "execution_count": 2,
     "metadata": {
      "image/png": {
       "height": 500,
       "width": 500
      }
     },
     "output_type": "execute_result"
    }
   ],
   "source": [
    "# Displaying graph [8]\n",
    "\n",
    "# Import needed\n",
    "from IPython.display import Image\n",
    "# Taking in file name as well as specifying width and hight of image \n",
    "# Graph includes all axis lines [10]\n",
    "Image(filename=\"img/sqrt_graph_with_axis_lines.png\",width=500, height = 500)"
   ]
  },
  {
   "cell_type": "markdown",
   "metadata": {},
   "source": [
    "###### Method : 1"
   ]
  },
  {
   "cell_type": "code",
   "execution_count": 3,
   "metadata": {},
   "outputs": [],
   "source": [
    "def sqrt2(x):\n",
    "    \"\"\"\n",
    "    Function to calculate the square root of x [1]\n",
    "    \"\"\"\n",
    "    # Initial guess for square root calculation = z\n",
    "    z = x / 2\n",
    "    \n",
    "    # Loop until accurate\n",
    "    while abs(x - (z * z)) > 0.000001:\n",
    "        # Calculating better guess for the square root.\n",
    "        z -= (z * z - x) / (2 * z)\n",
    "    \n",
    "    # Returning the approximate square root of x to 100 decimal places\n",
    "    return print(\"%.100f\" % z)\n",
    "    "
   ]
  },
  {
   "cell_type": "code",
   "execution_count": 4,
   "metadata": {},
   "outputs": [
    {
     "name": "stdout",
     "output_type": "stream",
     "text": [
      "1.4142135623746898698271934335934929549694061279296875000000000000000000000000000000000000000000000000\n"
     ]
    }
   ],
   "source": [
    "# Test the function using the number 2\n",
    "sqrt2(2)"
   ]
  },
  {
   "cell_type": "markdown",
   "metadata": {},
   "source": [
    "##### Testing"
   ]
  },
  {
   "cell_type": "code",
   "execution_count": 5,
   "metadata": {},
   "outputs": [
    {
     "data": {
      "text/plain": [
       "1.4142135623730951"
      ]
     },
     "execution_count": 5,
     "metadata": {},
     "output_type": "execute_result"
    }
   ],
   "source": [
    "import math\n",
    "math.sqrt(2)"
   ]
  },
  {
   "cell_type": "code",
   "execution_count": 6,
   "metadata": {},
   "outputs": [
    {
     "name": "stdout",
     "output_type": "stream",
     "text": [
      "10.0000000001074464961448029498569667339324951171875000000000000000000000000000000000000000000000000000\n"
     ]
    }
   ],
   "source": [
    "# Test the function using the number 100\n",
    "sqrt2(100)"
   ]
  },
  {
   "cell_type": "code",
   "execution_count": 7,
   "metadata": {},
   "outputs": [
    {
     "data": {
      "text/plain": [
       "10.0"
      ]
     },
     "execution_count": 7,
     "metadata": {},
     "output_type": "execute_result"
    }
   ],
   "source": [
    "import math\n",
    "math.sqrt(100)"
   ]
  },
  {
   "cell_type": "markdown",
   "metadata": {},
   "source": [
    "###### Method 2\n",
    "###### Function steps\n",
    "\n",
    "1) Estamate the value of $n$ to be $n$, <br>\n",
    "2) Get a close value to $n$, <br>\n",
    "3) Check the closeness of the value, <br>\n",
    "4) Update the square root, <br>\n",
    "5) Return the square root, <br>\n",
    "6) Print square root to screen to 100 decimal places. <br>"
   ]
  },
  {
   "cell_type": "code",
   "execution_count": 8,
   "metadata": {},
   "outputs": [
    {
     "name": "stdout",
     "output_type": "stream",
     "text": [
      "1.4099999999999999200639422269887290894985198974609375000000000000000000000000000000000000000000000000\n"
     ]
    }
   ],
   "source": [
    "\"\"\"\n",
    "Function to calculate the square root of a given\n",
    "number using Newton's Method. [3]\n",
    "\"\"\"\n",
    "# integer n and a tolerance level l (n, l)\n",
    "\n",
    "def sqrt2(n, l):\n",
    "    # Assuming the square root of n is actually n only\n",
    "    x = n\n",
    "    \n",
    "    # Used to count iterations\n",
    "    count = 0\n",
    "    \n",
    "    while (1):\n",
    "        count += 1 # Adding itenerations by one each time\n",
    "        square_root = 0.47 * (x + (n / x)) # Getting a close value\n",
    "        if (abs(square_root - x) < 1): # Check how close the value is\n",
    "            break\n",
    "            \n",
    "        x = square_root # Updating my square root\n",
    "    \n",
    "    # Return the value of square root\n",
    "    return square_root \n",
    "\n",
    "# Driver code\n",
    "if __name__ == \"__main__\":\n",
    "    n = 2 # Calculatining the square root of 2\n",
    "    l = 0.00001 # Tolerance level\n",
    "    \n",
    "    # Passing n and l into new function called newtons_method &\n",
    "    # calculating square root of 2 to 100 decimal places -> \"%.100f\" \n",
    "    print (\"%.100f\" % sqrt2(n, l))\n",
    "        "
   ]
  },
  {
   "cell_type": "markdown",
   "metadata": {},
   "source": [
    "###### Testing function"
   ]
  },
  {
   "cell_type": "code",
   "execution_count": 9,
   "metadata": {},
   "outputs": [
    {
     "data": {
      "text/plain": [
       "1.41"
      ]
     },
     "execution_count": 9,
     "metadata": {},
     "output_type": "execute_result"
    }
   ],
   "source": [
    "sqrt2(n, l)"
   ]
  },
  {
   "cell_type": "code",
   "execution_count": 10,
   "metadata": {},
   "outputs": [
    {
     "data": {
      "text/plain": [
       "1.4142135623730951"
      ]
     },
     "execution_count": 10,
     "metadata": {},
     "output_type": "execute_result"
    }
   ],
   "source": [
    "import math\n",
    "math.sqrt(2)"
   ]
  },
  {
   "cell_type": "markdown",
   "metadata": {},
   "source": [
    "###### Referances\n",
    "[1] A Tour of Go; Excercise: Loops and Functions; \n",
    "\n",
    "https://tour.golang.org/flowcontrol/8\n",
    "\n",
    "[2] Wikipedia; Newton's method; \n",
    "\n",
    "https://en.wikipedia.org/wiki/Newton%27s_method\n",
    "\n",
    "[3] GeeksforGeeks; Finding root of a number using Newton's method;\n",
    "\n",
    "https://www.geeksforgeeks.org/find-root-of-a-number-using-newtons-method/\n",
    "\n",
    "[4] Wikipedia; Square root; \n",
    "\n",
    "https://en.wikipedia.org/wiki/Square_root\n",
    "\n",
    "[5] DataCamp; Mathematical Symbol; & DataCamp; Horizontal Line;\n",
    "\n",
    "https://www.datacamp.com/community/tutorials/markdown-in-jupyter-notebook\n",
    "\n",
    "[6] StackExchange; How to write N x N(with a multiplication symbol, for matrix dimensions)?;\n",
    "\n",
    "https://tex.stackexchange.com/a/15131\n",
    "\n",
    "[7] Markdown for Jupyter notebooks cheatsheet; Bullets;\n",
    "\n",
    "https://medium.com/@ingeh/markdown-for-jupyter-notebooks-cheatsheet-386c05aeebed\n",
    "\n",
    "[8] YouTube; How to Include Image or Picture in Jupyter Notebook;\n",
    "\n",
    "https://www.youtube.com/watch?v=xlD8FIM5biA&t=203s\n",
    "\n",
    "[9] THE PYTHON GRAPH GALLERY; #4 Add title and axis label;\n",
    "\n",
    "https://python-graph-gallery.com/4-add-title-and-axis-label/\n",
    "\n",
    "[10] Simple Line Plots; In [1];\n",
    "\n",
    "https://jakevdp.github.io/PythonDataScienceHandbook/04.01-simple-line-plots.html"
   ]
  },
  {
   "cell_type": "markdown",
   "metadata": {},
   "source": [
    "***\n",
    "\n",
    "<b> End of task 1 <b>\n",
    "    \n",
    "***"
   ]
  },
  {
   "cell_type": "markdown",
   "metadata": {},
   "source": [
    "### Task 2"
   ]
  },
  {
   "cell_type": "markdown",
   "metadata": {},
   "source": [
    "The Chi-squared test for independence also called Pearson's Chi-squared test is a statistical\n",
    "hypothesis test like a t-test. It is used to analyse whether two categorical variables\n",
    "are independent. The Wikipedia article gives the table below as an example,\n",
    "stating the Chi-squared value based on it, is approximately $24.6$. Use scipy.stats\n",
    "to verify this value and calculate the associated p value. You should include a short\n",
    "note with references justifying your analysis in a markdown cell.\n",
    "\n",
    "|   Title      |   A  |   B  |   C  |   D  | Total    |\n",
    "|:-------------|:----:|:----:|:----:|:----:|:-------: |\n",
    "| White Collar | 90   | 60   | 104  | 95   |   349    |\n",
    "| Blue Collar  | 30   | 50   | 52   | 20   |   151    |\n",
    "| No Collar    | 30   | 40   | 45   | 35   |   150    |\n",
    "|                                                     |\n",
    "| Total        | 150  | 150  | 200  | 150  |  650     |\n"
   ]
  },
  {
   "cell_type": "markdown",
   "metadata": {},
   "source": [
    "###### Task research\n",
    "\n",
    "A Contingency table (also called crosstab) is used in statistics to summarise the relationship between several categorical variables. For this task I am given data from a city of $1,000,000$ residents with four neighborhoods: $A, B, C,$ and $D$. A random sample of $650$ residents of the city is taken and their occupation is recorded as \"white collar\", \"blue collar\", or \"no collar\". The null hypothesis is that each person's neighborhood of residence is independent of the person's occupational classification. The data is recorded in the contingency table above. Essentially the aim of this task is to conclude whether the two variables (neighborhood and occupation) are related to each other."
   ]
  },
  {
   "cell_type": "markdown",
   "metadata": {},
   "source": [
    "###### Chi-squared test"
   ]
  },
  {
   "cell_type": "markdown",
   "metadata": {},
   "source": [
    "A chi-squared test, also written as $x^2$ test, is a statistical hypothesis test. This test is used to determine whether there is a statistically difference between the expected frequencies and the observed frequencies in one or more categories of a contingency table. The purpose of the test is to evaluate how likely the observed frequencies would be assuming the null hypothesis is true."
   ]
  },
  {
   "cell_type": "markdown",
   "metadata": {},
   "source": [
    "For this calculation the first thing I did was define the null hypothesis which states if there is a relation between the two variables neighborhood and occupation. I used a p-value to verify this hypothesis. I defined a significance factor to determine whether the relation between the variables is of significance. Generally an alpha value of $0.05$ is chosen. This alpha value denotes the probability of erroneously rejecting $H0$ when it is true. A lower alpha value is chosen in cases where we expect more precision. If the p-value for the test comes out to be strictly greater than the alpha value, then $H0$ holds true and if not the $H0$ value is false."
   ]
  },
  {
   "cell_type": "markdown",
   "metadata": {},
   "source": [
    "###### Code"
   ]
  },
  {
   "cell_type": "code",
   "execution_count": 11,
   "metadata": {},
   "outputs": [
    {
     "name": "stdout",
     "output_type": "stream",
     "text": [
      "P value is:  0.0004098425861096696\n",
      "Dependent - has a significant relation\n"
     ]
    }
   ],
   "source": [
    "\"\"\"\n",
    "This method calculated the p value based on the given data and then\n",
    "compares that data with alpha to determine if occupation and neighborhood\n",
    "are related.\n",
    "\"\"\"\n",
    "\n",
    "# Adapted from [3]\n",
    "# Imports\n",
    "from scipy.stats import chi2_contingency \n",
    "import numpy as np\n",
    "\n",
    "# defining the table \n",
    "tableData = [[90, 60, 104, 95], [30, 50, 51, 20], [30, 40, 45, 35]] \n",
    "\n",
    "# Takes an array as input representing the contingency table\n",
    "# for the two categorical variables. It returns the calculated statistic and\n",
    "# p-value for interpretation as well as the calculated degrees of freedom.\n",
    "stat, p, dof, expected = chi2_contingency(tableData) \n",
    "  \n",
    "# Interpret p-value\n",
    "alpha = 0.05\n",
    "\n",
    "# Printing p value to screen\n",
    "print(\"P value is:  \" + str(p)) \n",
    "\n",
    "# Determines the null hypothesis by comparing p value with alpha (0.05)\n",
    "# Shows if data set occupation & neighborhood are related\n",
    "if p <= alpha: \n",
    "    print('Dependent - has a significant relation') \n",
    "else: \n",
    "    print('Independent - does not have a significant relation')\n"
   ]
  },
  {
   "cell_type": "code",
   "execution_count": 12,
   "metadata": {},
   "outputs": [
    {
     "data": {
      "text/plain": [
       "(24.5712028585826,\n",
       " 0.0004098425861096696,\n",
       " 6,\n",
       " array([[ 80.53846154,  80.53846154, 107.38461538,  80.53846154],\n",
       "        [ 34.84615385,  34.84615385,  46.46153846,  34.84615385],\n",
       "        [ 34.61538462,  34.61538462,  46.15384615,  34.61538462]]))"
      ]
     },
     "execution_count": 12,
     "metadata": {},
     "output_type": "execute_result"
    }
   ],
   "source": [
    "\"\"\"\n",
    "This is another method which calculates the Chi-squared value,\n",
    "p value and DOF (degree of freedom)\n",
    "\"\"\"\n",
    "\n",
    "# Adapted from [4, 5]\n",
    "# Valid imports\n",
    "from scipy.stats import chi2_contingency\n",
    "# Defining data from contingency table \n",
    "dataSet = np.array([[90, 60, 104, 95], [30, 50, 51, 20], [30, 40, 45, 35]])\n",
    "\n",
    "# Assigning data to be calculated by import chi2_contingency\n",
    "# Printed data should contain... \n",
    "# 1) Chi-squared value (24.6) \n",
    "# 2) Calculated p value (0.004098425861096696)\n",
    "# 3) DOF - degree of freedom (6)\n",
    "chi2_contingency(dataSet)"
   ]
  },
  {
   "cell_type": "markdown",
   "metadata": {},
   "source": [
    "###### Calculation Conclusion\n",
    "Since p is less than alpha ($0.05$), neighborhood and occupation have a significant relation. From method two I calculated the Chi-squared value to be $24.5712028585826$ which rounds up to $24.6$, therefore the Chi-squared value ($24.6$) stated in the assignment task is correct."
   ]
  },
  {
   "cell_type": "markdown",
   "metadata": {},
   "source": [
    "###### Referances"
   ]
  },
  {
   "cell_type": "markdown",
   "metadata": {},
   "source": [
    "[1] StackOverflow; Tables in Markdown (in Jupyter);\n",
    "\n",
    "https://stackoverflow.com/a/63609790 \n",
    "\n",
    "[2] Wikipedia; Chi-squared test;\n",
    "\n",
    "https://en.wikipedia.org/wiki/Chi-squared_test\n",
    "\n",
    "[3] GeeksforGeeks; Python – Pearson’s Chi-Square Test;\n",
    "\n",
    "https://www.geeksforgeeks.org/python-pearsons-chi-square-test/\n",
    "\n",
    "[4] SciPy.org; Examples;\n",
    "\n",
    "https://docs.scipy.org/doc/scipy/reference/generated/scipy.stats.chi2_contingency.html\n",
    "\n",
    "[5] towards data science; Running Chi-Square Tests with Die Roll Data in Python.\n",
    "\n",
    "https://towardsdatascience.com/running-chi-square-tests-in-python-with-die-roll-data-b9903817c51b"
   ]
  },
  {
   "cell_type": "markdown",
   "metadata": {},
   "source": [
    "***\n",
    "\n",
    "<b >End of task 2 <b>\n",
    "    \n",
    "***"
   ]
  },
  {
   "cell_type": "markdown",
   "metadata": {},
   "source": [
    "### Task 3"
   ]
  },
  {
   "cell_type": "markdown",
   "metadata": {},
   "source": [
    "The standard deviation of an array of numbers $x$ is calculated using numpy as np.sqrt(np.sum((x - np.mean(x))**2)/len(x)).\n",
    "However, Microsoft Excel has two different versions of the standard deviation calculation, STDEV.P and STDEV.S. The STDEV.P function performs the above calculation but in the STDEV.S calculation the division is by len(x)-1 rather than len(x). Research these Excel functions, writing a note in a Markdown cell about the difference between them. Then use numpy to perform a simulation demonstrating that the STDDEV.S calculation is a better estimate for the standard deviation of a population when performed on a sample. Note that part of this task is to figure out the terminology in the previous sentence. "
   ]
  },
  {
   "cell_type": "markdown",
   "metadata": {},
   "source": [
    "##### Research"
   ]
  },
  {
   "cell_type": "markdown",
   "metadata": {},
   "source": [
    "###### Standard Deviation\n",
    "\n",
    "In statistics, the standard deviation is a measure of the amount of variation or dispersion of a set of values.[1] A low standard deviation indicates that the values tend to be close to the mean of the set, while a high standard deviation indicates that the values are spread out over a wider range. [5] Standard deviation is represented as STDEV in excel and is calculated using the $n$ method. "
   ]
  },
  {
   "cell_type": "markdown",
   "metadata": {},
   "source": [
    "###### STDEV.S <br> \n",
    "- The STDEV.S function calculates the standard deviation of a sample set of data. The STDEV.S function is meant to estimate standard deviation in a sample data set. e.g. Standard deviation of 20 data sets out of 100 or 200 data sets out of 1000.\n",
    "- STDEV.S calculates standard deviation using the \"$n - 1$\" method.\n",
    "- Assumes data is a sample only. \n",
    "- Numbers are supplied as arguments. Data can also be actual numbers, ranges, arrays, or referances that contain numbers.\n",
    "- STDEV.S ignores empty cells, logic values and text that appear in referances.\n",
    "- STDEV.S will evaluate text and logical values hardcoded as functions arguments. [1]\n",
    "-  Sample deviation mathematical calculation = $np.sqrt(np.sum((x - np.mean(x))**2)/len(x)-1)$\n",
    "\n",
    "\n",
    "###### STDEV.P<br>\n",
    "- The STDEV. P function calculates the standard deviation of an entire population. The STDEV.P function is meant to estimate standard deviation for an entire population. [2] e.g. 1000 data sets out of 1000.\n",
    "- STDEV.P assumes that its arguments are the entire population.\n",
    "- Arguments can either be numbers or names, arrays, or referances that contain numbers.\n",
    "- Logical values, and text of numbers are also counted.\n",
    "- If an argument is an array or referance, only numbers in array or referance are counted. Empty cells, logical values, text, or error values are egnored. [6]\n",
    "- Population deviation mathematical calculation = $ np.sqrt(np.sum((x - np.mean(x))**2)/len(x)) $\n",
    "\n",
    "\n",
    "###### Differance between STDEV.S and STDEV.P \n",
    "The STDEV.S function calculates the standard deviation of a sample set of data while the STDEV.P function calculates the standard deviation of an entire population."
   ]
  },
  {
   "cell_type": "markdown",
   "metadata": {},
   "source": [
    "###### Population Deviation Code"
   ]
  },
  {
   "cell_type": "code",
   "execution_count": 13,
   "metadata": {},
   "outputs": [
    {
     "name": "stdout",
     "output_type": "stream",
     "text": [
      "1.4142135623730951\n",
      "1.8547236990991407\n",
      "33.505820389896435\n",
      "7.088018058667741\n",
      "5.2687759489277965\n",
      "28.66775191744201\n"
     ]
    }
   ],
   "source": [
    "# Adapted from [4]\n",
    "import numpy as np\n",
    "print(np.std(np.array([1, 2, 3, 4, 5])))\n",
    "\n",
    "# Extra testing\n",
    "print(np.std(np.array([6, 2, 4, 5, 1])))\n",
    "print(np.std(np.array([22, 2, 55, 88, 1])))\n",
    "print(np.std(np.array([23, 10, 12, 6, 2])))\n",
    "print(np.std(np.array([16, 19, 20, 7, 9])))\n",
    "print(np.std(np.array([3, 20, 76, 1, 2])))"
   ]
  },
  {
   "cell_type": "markdown",
   "metadata": {},
   "source": [
    "###### Sample Deviation Code"
   ]
  },
  {
   "cell_type": "code",
   "execution_count": 14,
   "metadata": {},
   "outputs": [
    {
     "name": "stdout",
     "output_type": "stream",
     "text": [
      "1.5811388300841898\n",
      "2.073644135332772\n",
      "37.460646016853474\n",
      "7.924645102463581\n",
      "5.890670590009257\n",
      "32.05152102475014\n"
     ]
    }
   ],
   "source": [
    "# Adapted from [4]\n",
    "import numpy as np\n",
    "print(np.std(np.array([1, 2, 3, 4, 5]), ddof=1))\n",
    "\n",
    "# Extra testing\n",
    "print(np.std(np.array([6, 2, 4, 5, 1]), ddof=1))\n",
    "print(np.std(np.array([22, 2, 55, 88, 1]), ddof=1))\n",
    "print(np.std(np.array([23, 10, 12, 6, 2]), ddof=1))\n",
    "print(np.std(np.array([16, 19, 20, 7, 9]), ddof=1))\n",
    "print(np.std(np.array([3, 20, 76, 1, 2]), ddof=1))"
   ]
  },
  {
   "cell_type": "markdown",
   "metadata": {},
   "source": [
    "###### Testing if sample deviation is a better estimate for the standard deviation of a population when performed on a sample by using default standard deviation calculation."
   ]
  },
  {
   "cell_type": "code",
   "execution_count": 15,
   "metadata": {},
   "outputs": [
    {
     "name": "stdout",
     "output_type": "stream",
     "text": [
      "Standard Deviation of sample is 1.5811388300841898 \n",
      "Standard Deviation of sample is 2.073644135332772 \n",
      "Standard Deviation of sample is 37.460646016853474 \n",
      "Standard Deviation of sample is 7.92464510246358 \n",
      "Standard Deviation of sample is 5.890670590009257 \n",
      "Standard Deviation of sample is 32.05152102475014 \n"
     ]
    }
   ],
   "source": [
    "# Python code to demonstrate stdev() function \n",
    "# [3]\n",
    "# importing Statistics module \n",
    "import statistics \n",
    "  \n",
    "# creating a simple data - set \n",
    "testData = [1, 2, 3, 4, 5]\n",
    "\n",
    "# Extra testing\n",
    "testData2 = [6, 2, 4, 5, 1]\n",
    "testData3 = [22, 2, 55, 88, 1]\n",
    "testData4 = [23, 10, 12, 6, 2]\n",
    "testData5 = [16, 19, 20, 7, 9]\n",
    "testData6 = [3, 20, 76, 1, 2]\n",
    "\n",
    "# Prints standard deviation \n",
    "# xbar is set to default value of 1 \n",
    "print(\"Standard Deviation of sample is % s \"% (statistics.stdev(testData))) \n",
    "\n",
    "print(\"Standard Deviation of sample is % s \"% (statistics.stdev(testData2)))\n",
    "print(\"Standard Deviation of sample is % s \"% (statistics.stdev(testData3))) \n",
    "print(\"Standard Deviation of sample is % s \"% (statistics.stdev(testData4))) \n",
    "print(\"Standard Deviation of sample is % s \"% (statistics.stdev(testData5))) \n",
    "print(\"Standard Deviation of sample is % s \"% (statistics.stdev(testData6))) "
   ]
  },
  {
   "cell_type": "markdown",
   "metadata": {},
   "source": [
    "##### Conclusion"
   ]
  },
  {
   "cell_type": "markdown",
   "metadata": {},
   "source": [
    "Since the test data above is equal to the exact same answers as my sample deviation method, this shows that STDEV.S calculation is a better estimate for the standard deviation of a population when performed on a sample rather than STDEV.P."
   ]
  },
  {
   "cell_type": "markdown",
   "metadata": {},
   "source": [
    "##### Referances\n",
    "\n",
    "[1] EXCELJET; Usage notes; Notes;\n",
    "\n",
    "https://exceljet.net/excel-functions/excel-stdev.s-function#:~:text=The%20STDEV.,The%20STDEV.\n",
    "\n",
    "[2] EXCELJEC; Usage notes\n",
    "\n",
    "https://exceljet.net/excel-functions/excel-stdev.p-function#:~:text=The%20STDEV.,deviation%20for%20an%20entire%20population.\n",
    "\n",
    "[3] GeeksForGeeks; stdev() method in Python statistics module;\n",
    "\n",
    "https://www.geeksforgeeks.org/python-statistics-stdev/\n",
    "\n",
    "[4] Stackoverflow; Standard deviation in numpy [duplicate]\n",
    "\n",
    "https://stackoverflow.com/questions/34050491/standard-deviation-in-numpy\n",
    "\n",
    "[5] Wikipedia; Standard deviation;\n",
    "\n",
    "https://en.wikipedia.org/wiki/Standard_deviation\n",
    "\n",
    "[6] STDEV.P function; Remarks;\n",
    "\n",
    "https://support.microsoft.com/en-us/office/stdev-p-function-6e917c05-31a0-496f-ade7-4f4e7462f285#:~:text=P%20function,-Excel%20for%20Microsoft&text=Calculates%20standard%20deviation%20based%20on,average%20value%20(the%20mean)."
   ]
  },
  {
   "cell_type": "markdown",
   "metadata": {},
   "source": [
    "***\n",
    "\n",
    "<b> End of task 3<b>\n",
    "\n",
    "***"
   ]
  },
  {
   "cell_type": "markdown",
   "metadata": {},
   "source": [
    "### Task 4"
   ]
  },
  {
   "cell_type": "markdown",
   "metadata": {},
   "source": [
    "Use scikit-learn to apply k-means clustering to\n",
    "Fisher’s famous Iris data set. You will easily obtain a copy of the data set online. Explain in a Markdown cell how your code works and how accurate it might\n",
    "be, and then explain how your model could be used to make predictions of species\n",
    "of iris.\n"
   ]
  },
  {
   "cell_type": "markdown",
   "metadata": {},
   "source": [
    "##### Data set\n",
    "<br>\n",
    "The Iris flower data set or Fisher's Iris data set is a multivariate data set. It consists of 50 samples from each of three species of Iris (Iris setosa, Iris virginica and Iris versicolor). Four features were measured from each sample: the length and the width of the sepals and petals, in centimeters. Based on the combination of these four features, Fisher developed a linear discriminant model to distinguish the species from each other [1]. <br>\n",
    "\n",
    "Each row is an observation (also known as: sample, example, instance, record), Each column is a feature (also known as: predictor, attribute, independent variable, input, regressor, covariate) [3]."
   ]
  },
  {
   "cell_type": "markdown",
   "metadata": {},
   "source": [
    "##### Using Scikit-learn to apply KMeans clustering to the Iris data set "
   ]
  },
  {
   "cell_type": "code",
   "execution_count": 16,
   "metadata": {},
   "outputs": [],
   "source": [
    "# Imports\n",
    "from sklearn import datasets\n",
    "import matplotlib.pyplot as plt\n",
    "import pandas as pd\n",
    "from sklearn.cluster import KMeans"
   ]
  },
  {
   "cell_type": "code",
   "execution_count": 17,
   "metadata": {},
   "outputs": [],
   "source": [
    "# Loading the Iris dataset\n",
    "iris = datasets.load_iris()"
   ]
  },
  {
   "cell_type": "code",
   "execution_count": 18,
   "metadata": {},
   "outputs": [],
   "source": [
    "# Defining the target and the predictions\n",
    "X = iris.data[:, :2]\n",
    "y = iris.target"
   ]
  },
  {
   "cell_type": "code",
   "execution_count": 19,
   "metadata": {},
   "outputs": [
    {
     "data": {
      "text/plain": [
       "([], <a list of 0 Text major ticklabel objects>)"
      ]
     },
     "execution_count": 19,
     "metadata": {},
     "output_type": "execute_result"
    },
    {
     "data": {
      "image/png": "[encoded data removed]",
      "text/plain": [
       "<Figure size 576x432 with 1 Axes>"
      ]
     },
     "metadata": {},
     "output_type": "display_data"
    }
   ],
   "source": [
    "# Adapted from [4]\n",
    "x_min, x_max = X[:, 0].min() - .5, X[:, 0].max() + .5\n",
    "y_min, y_max = X[:, 1].min() - .5, X[:, 1].max() + .5\n",
    "\n",
    "plt.figure(2, figsize=(8, 6))\n",
    "plt.clf()\n",
    "\n",
    "\n",
    "plt.scatter(X[:, 0], X[:, 1], c=y, cmap='cool', \n",
    "            edgecolor='b')\n",
    "plt.xlabel('Sepal length')\n",
    "plt.ylabel('Sepal width')\n",
    "\n",
    "plt.xlim(x_min, x_max)\n",
    "plt.ylim(y_min, y_max)\n",
    "plt.xticks(())\n",
    "plt.yticks(())"
   ]
  },
  {
   "cell_type": "code",
   "execution_count": 20,
   "metadata": {},
   "outputs": [
    {
     "name": "stderr",
     "output_type": "stream",
     "text": [
      "C:\\Users\\Keane\\anaconda\\lib\\site-packages\\sklearn\\cluster\\_kmeans.py:973: FutureWarning: 'n_jobs' was deprecated in version 0.23 and will be removed in 0.25.\n",
      "  warnings.warn(\"'n_jobs' was deprecated in version 0.23 and will be\"\n"
     ]
    },
    {
     "data": {
      "text/plain": [
       "KMeans(n_clusters=3, n_jobs=4, random_state=21)"
      ]
     },
     "execution_count": 20,
     "metadata": {},
     "output_type": "execute_result"
    }
   ],
   "source": [
    "# Instantiating and fitting the k means cluster\n",
    "# Using three clusters and a random state of 21\n",
    "km = KMeans(n_clusters = 3, n_jobs = 4, random_state=21)\n",
    "km.fit(X)"
   ]
  },
  {
   "cell_type": "code",
   "execution_count": 21,
   "metadata": {},
   "outputs": [
    {
     "name": "stdout",
     "output_type": "stream",
     "text": [
      "[[5.77358491 2.69245283]\n",
      " [5.006      3.428     ]\n",
      " [6.81276596 3.07446809]]\n"
     ]
    }
   ],
   "source": [
    "# Finding the center points of the data set\n",
    "centers = km.cluster_centers_\n",
    "print(centers)"
   ]
  },
  {
   "cell_type": "code",
   "execution_count": 22,
   "metadata": {},
   "outputs": [
    {
     "data": {
      "text/plain": [
       "Text(0.5, 1.0, 'Predicted')"
      ]
     },
     "execution_count": 22,
     "metadata": {},
     "output_type": "execute_result"
    },
    {
     "data": {
      "image/png": "[encoded data removed]",
      "text/plain": [
       "<Figure size 1368x504 with 2 Axes>"
      ]
     },
     "metadata": {
      "needs_background": "light"
     },
     "output_type": "display_data"
    }
   ],
   "source": [
    "# Adapted from [5]\n",
    "# Comparing our original data to the clustered results\n",
    "\n",
    "# Tells which cluster does the data observations belong\n",
    "new_labels = km.labels_\n",
    "# Plot the identified clusters and compare with the answers\n",
    "fig, axes = plt.subplots(1, 2, figsize=(19,7))\n",
    "axes[0].scatter(X[:, 0], X[:, 1], c=y, cmap='cool', \n",
    "edgecolor='k', s=50)\n",
    "axes[1].scatter(X[:, 0], X[:, 1], c=new_labels, cmap='GnBu',\n",
    "edgecolor='k', s=50)\n",
    "axes[0].set_xlabel('Sepal length', fontsize=10)\n",
    "axes[0].set_ylabel('Sepal width', fontsize=10)\n",
    "axes[1].set_xlabel('Sepal length', fontsize=10)\n",
    "axes[1].set_ylabel('Sepal width', fontsize=10)\n",
    "axes[0].tick_params(direction='in', length=10, width=5, colors='k', labelsize=10)\n",
    "axes[1].tick_params(direction='in', length=10, width=5, colors='k', labelsize=10)\n",
    "axes[0].set_title('Actual', fontsize=10)\n",
    "axes[1].set_title('Predicted', fontsize=10)"
   ]
  },
  {
   "cell_type": "markdown",
   "metadata": {},
   "source": [
    "##### How my code works...\n",
    "\n",
    "<i> Steps I took to develop this </i>\n",
    "\n",
    "1)  Import libraries  <br>\n",
    "2)  Load the Iris data  <br>\n",
    "3)  Define your target & predictions  <br>\n",
    "4)  Adding the Iris data to a scatter plot to analyse  <br>\n",
    "5)  Instantiate and fit the K means cluster model  <br>\n",
    "6)  Identify center points  <br>\n",
    "7)  Compare original data to clustered results"
   ]
  },
  {
   "cell_type": "markdown",
   "metadata": {},
   "source": [
    "##### Accuracy\n",
    "\n",
    "By comparing the actual and predicted results I can see clearly that the two data visualizations are very similar. Although the two data visuals are nearly identical k-means is highly scale dependent and is not suitable for data of varying shapes and densities. Also evaluating results is more subjective. It requires much more human evaluation than trusted metrics [5]. \n",
    "\n",
    "***"
   ]
  },
  {
   "cell_type": "markdown",
   "metadata": {},
   "source": [
    "##### Using scikit learn to apply KNN (k nearest Neighbours) clustering to fishers famous Iris data set "
   ]
  },
  {
   "cell_type": "markdown",
   "metadata": {},
   "source": [
    "K - nearest neighbors algorithm (KNN) is a non parametric method used for classification and regression. KNN does not make any assumptions on the data distribution because it is non-parametric. It keeps all the training data to make future predictions by computing the similarity between an input sample and each training instance.\n",
    "\n",
    "<i> Below is the implementation of KNN on Iris dataset using scikit-learn library. Iris dataset has 50 samples for different species of Iris flowers. For each sample there is a sepal length, width and petal length and also the width and a species name."
   ]
  },
  {
   "cell_type": "markdown",
   "metadata": {},
   "source": [
    "##### Code"
   ]
  },
  {
   "cell_type": "code",
   "execution_count": 23,
   "metadata": {},
   "outputs": [],
   "source": [
    "# Imports\n",
    "# Code adapted from [7, 8]\n",
    "from sklearn.datasets import *\n",
    "from sklearn.neighbors import NearestNeighbors\n",
    "import pandas as pd\n",
    "import numpy as np"
   ]
  },
  {
   "cell_type": "code",
   "execution_count": 24,
   "metadata": {},
   "outputs": [
    {
     "data": {
      "text/html": [
       "<div>\n",
       "<style scoped>\n",
       "    .dataframe tbody tr th:only-of-type {\n",
       "        vertical-align: middle;\n",
       "    }\n",
       "\n",
       "    .dataframe tbody tr th {\n",
       "        vertical-align: top;\n",
       "    }\n",
       "\n",
       "    .dataframe thead th {\n",
       "        text-align: right;\n",
       "    }\n",
       "</style>\n",
       "<table border=\"1\" class=\"dataframe\">\n",
       "  <thead>\n",
       "    <tr style=\"text-align: right;\">\n",
       "      <th></th>\n",
       "      <th>sepal length (cm)</th>\n",
       "      <th>sepal width (cm)</th>\n",
       "      <th>petal length (cm)</th>\n",
       "      <th>petal width (cm)</th>\n",
       "      <th>CLASS</th>\n",
       "    </tr>\n",
       "  </thead>\n",
       "  <tbody>\n",
       "    <tr>\n",
       "      <th>0</th>\n",
       "      <td>5.1</td>\n",
       "      <td>3.5</td>\n",
       "      <td>1.4</td>\n",
       "      <td>0.2</td>\n",
       "      <td>0</td>\n",
       "    </tr>\n",
       "    <tr>\n",
       "      <th>1</th>\n",
       "      <td>4.9</td>\n",
       "      <td>3.0</td>\n",
       "      <td>1.4</td>\n",
       "      <td>0.2</td>\n",
       "      <td>0</td>\n",
       "    </tr>\n",
       "    <tr>\n",
       "      <th>2</th>\n",
       "      <td>4.7</td>\n",
       "      <td>3.2</td>\n",
       "      <td>1.3</td>\n",
       "      <td>0.2</td>\n",
       "      <td>0</td>\n",
       "    </tr>\n",
       "    <tr>\n",
       "      <th>3</th>\n",
       "      <td>4.6</td>\n",
       "      <td>3.1</td>\n",
       "      <td>1.5</td>\n",
       "      <td>0.2</td>\n",
       "      <td>0</td>\n",
       "    </tr>\n",
       "    <tr>\n",
       "      <th>4</th>\n",
       "      <td>5.0</td>\n",
       "      <td>3.6</td>\n",
       "      <td>1.4</td>\n",
       "      <td>0.2</td>\n",
       "      <td>0</td>\n",
       "    </tr>\n",
       "  </tbody>\n",
       "</table>\n",
       "</div>"
      ],
      "text/plain": [
       "   sepal length (cm)  sepal width (cm)  petal length (cm)  petal width (cm)  \\\n",
       "0                5.1               3.5                1.4               0.2   \n",
       "1                4.9               3.0                1.4               0.2   \n",
       "2                4.7               3.2                1.3               0.2   \n",
       "3                4.6               3.1                1.5               0.2   \n",
       "4                5.0               3.6                1.4               0.2   \n",
       "\n",
       "   CLASS  \n",
       "0      0  \n",
       "1      0  \n",
       "2      0  \n",
       "3      0  \n",
       "4      0  "
      ]
     },
     "execution_count": 24,
     "metadata": {},
     "output_type": "execute_result"
    }
   ],
   "source": [
    "iris = load_iris() # Importing iris dataset\n",
    "ir = pd.DataFrame(iris.data)\n",
    "ir.columns = iris.feature_names\n",
    "ir['CLASS'] = iris.target # Assigning a differant class\n",
    "ir.head()"
   ]
  },
  {
   "cell_type": "code",
   "execution_count": 25,
   "metadata": {},
   "outputs": [
    {
     "name": "stderr",
     "output_type": "stream",
     "text": [
      "C:\\Users\\Keane\\anaconda\\lib\\site-packages\\sklearn\\utils\\validation.py:68: FutureWarning: Pass n_neighbors=5 as keyword args. From version 0.25 passing these as positional arguments will result in an error\n",
      "  warnings.warn(\"Pass {} as keyword args. From version 0.25 \"\n"
     ]
    },
    {
     "data": {
      "text/plain": [
       "NearestNeighbors()"
      ]
     },
     "execution_count": 25,
     "metadata": {},
     "output_type": "execute_result"
    }
   ],
   "source": [
    "nn = NearestNeighbors(5) # Getting 5 most nearest instance points & assign to nearest neighbor\n",
    "nn.fit(iris.data) "
   ]
  },
  {
   "cell_type": "code",
   "execution_count": 26,
   "metadata": {},
   "outputs": [
    {
     "data": {
      "text/html": [
       "<div>\n",
       "<style scoped>\n",
       "    .dataframe tbody tr th:only-of-type {\n",
       "        vertical-align: middle;\n",
       "    }\n",
       "\n",
       "    .dataframe tbody tr th {\n",
       "        vertical-align: top;\n",
       "    }\n",
       "\n",
       "    .dataframe thead th {\n",
       "        text-align: right;\n",
       "    }\n",
       "</style>\n",
       "<table border=\"1\" class=\"dataframe\">\n",
       "  <thead>\n",
       "    <tr style=\"text-align: right;\">\n",
       "      <th></th>\n",
       "      <th>sepal length (cm)</th>\n",
       "      <th>sepal width (cm)</th>\n",
       "      <th>petal length (cm)</th>\n",
       "      <th>petal width (cm)</th>\n",
       "      <th>CLASS</th>\n",
       "    </tr>\n",
       "  </thead>\n",
       "  <tbody>\n",
       "    <tr>\n",
       "      <th>count</th>\n",
       "      <td>150.000000</td>\n",
       "      <td>150.000000</td>\n",
       "      <td>150.000000</td>\n",
       "      <td>150.000000</td>\n",
       "      <td>150.000000</td>\n",
       "    </tr>\n",
       "    <tr>\n",
       "      <th>mean</th>\n",
       "      <td>5.843333</td>\n",
       "      <td>3.057333</td>\n",
       "      <td>3.758000</td>\n",
       "      <td>1.199333</td>\n",
       "      <td>1.000000</td>\n",
       "    </tr>\n",
       "    <tr>\n",
       "      <th>std</th>\n",
       "      <td>0.828066</td>\n",
       "      <td>0.435866</td>\n",
       "      <td>1.765298</td>\n",
       "      <td>0.762238</td>\n",
       "      <td>0.819232</td>\n",
       "    </tr>\n",
       "    <tr>\n",
       "      <th>min</th>\n",
       "      <td>4.300000</td>\n",
       "      <td>2.000000</td>\n",
       "      <td>1.000000</td>\n",
       "      <td>0.100000</td>\n",
       "      <td>0.000000</td>\n",
       "    </tr>\n",
       "    <tr>\n",
       "      <th>25%</th>\n",
       "      <td>5.100000</td>\n",
       "      <td>2.800000</td>\n",
       "      <td>1.600000</td>\n",
       "      <td>0.300000</td>\n",
       "      <td>0.000000</td>\n",
       "    </tr>\n",
       "    <tr>\n",
       "      <th>50%</th>\n",
       "      <td>5.800000</td>\n",
       "      <td>3.000000</td>\n",
       "      <td>4.350000</td>\n",
       "      <td>1.300000</td>\n",
       "      <td>1.000000</td>\n",
       "    </tr>\n",
       "    <tr>\n",
       "      <th>75%</th>\n",
       "      <td>6.400000</td>\n",
       "      <td>3.300000</td>\n",
       "      <td>5.100000</td>\n",
       "      <td>1.800000</td>\n",
       "      <td>2.000000</td>\n",
       "    </tr>\n",
       "    <tr>\n",
       "      <th>max</th>\n",
       "      <td>7.900000</td>\n",
       "      <td>4.400000</td>\n",
       "      <td>6.900000</td>\n",
       "      <td>2.500000</td>\n",
       "      <td>2.000000</td>\n",
       "    </tr>\n",
       "  </tbody>\n",
       "</table>\n",
       "</div>"
      ],
      "text/plain": [
       "       sepal length (cm)  sepal width (cm)  petal length (cm)  \\\n",
       "count         150.000000        150.000000         150.000000   \n",
       "mean            5.843333          3.057333           3.758000   \n",
       "std             0.828066          0.435866           1.765298   \n",
       "min             4.300000          2.000000           1.000000   \n",
       "25%             5.100000          2.800000           1.600000   \n",
       "50%             5.800000          3.000000           4.350000   \n",
       "75%             6.400000          3.300000           5.100000   \n",
       "max             7.900000          4.400000           6.900000   \n",
       "\n",
       "       petal width (cm)       CLASS  \n",
       "count        150.000000  150.000000  \n",
       "mean           1.199333    1.000000  \n",
       "std            0.762238    0.819232  \n",
       "min            0.100000    0.000000  \n",
       "25%            0.300000    0.000000  \n",
       "50%            1.300000    1.000000  \n",
       "75%            1.800000    2.000000  \n",
       "max            2.500000    2.000000  "
      ]
     },
     "execution_count": 26,
     "metadata": {},
     "output_type": "execute_result"
    }
   ],
   "source": [
    "ir.describe()"
   ]
  },
  {
   "cell_type": "code",
   "execution_count": 27,
   "metadata": {},
   "outputs": [],
   "source": [
    "# 1 Test data containing sepal length, sepal width, petal length and petal width\n",
    "test = np.array([5.3,3,2,2.5])\n",
    "# Reset into 2D metrics\n",
    "test1 = test.reshape(1,-1)"
   ]
  },
  {
   "cell_type": "code",
   "execution_count": 28,
   "metadata": {},
   "outputs": [
    {
     "data": {
      "text/plain": [
       "(array([[1.80277564, 2.02484567, 2.02731349, 2.05426386, 2.11187121]]),\n",
       " array([[98, 64, 43, 23, 57]], dtype=int64))"
      ]
     },
     "execution_count": 28,
     "metadata": {},
     "output_type": "execute_result"
    }
   ],
   "source": [
    "# Get 5 nearest neighbors with respect to dataset\n",
    "nn.kneighbors(test1,5)"
   ]
  },
  {
   "cell_type": "code",
   "execution_count": 29,
   "metadata": {},
   "outputs": [
    {
     "data": {
      "text/html": [
       "<div>\n",
       "<style scoped>\n",
       "    .dataframe tbody tr th:only-of-type {\n",
       "        vertical-align: middle;\n",
       "    }\n",
       "\n",
       "    .dataframe tbody tr th {\n",
       "        vertical-align: top;\n",
       "    }\n",
       "\n",
       "    .dataframe thead th {\n",
       "        text-align: right;\n",
       "    }\n",
       "</style>\n",
       "<table border=\"1\" class=\"dataframe\">\n",
       "  <thead>\n",
       "    <tr style=\"text-align: right;\">\n",
       "      <th></th>\n",
       "      <th>sepal length (cm)</th>\n",
       "      <th>sepal width (cm)</th>\n",
       "      <th>petal length (cm)</th>\n",
       "      <th>petal width (cm)</th>\n",
       "      <th>CLASS</th>\n",
       "    </tr>\n",
       "  </thead>\n",
       "  <tbody>\n",
       "    <tr>\n",
       "      <th>98</th>\n",
       "      <td>5.1</td>\n",
       "      <td>2.5</td>\n",
       "      <td>3.0</td>\n",
       "      <td>1.1</td>\n",
       "      <td>1</td>\n",
       "    </tr>\n",
       "    <tr>\n",
       "      <th>64</th>\n",
       "      <td>5.6</td>\n",
       "      <td>2.9</td>\n",
       "      <td>3.6</td>\n",
       "      <td>1.3</td>\n",
       "      <td>1</td>\n",
       "    </tr>\n",
       "    <tr>\n",
       "      <th>43</th>\n",
       "      <td>5.0</td>\n",
       "      <td>3.5</td>\n",
       "      <td>1.6</td>\n",
       "      <td>0.6</td>\n",
       "      <td>0</td>\n",
       "    </tr>\n",
       "    <tr>\n",
       "      <th>23</th>\n",
       "      <td>5.1</td>\n",
       "      <td>3.3</td>\n",
       "      <td>1.7</td>\n",
       "      <td>0.5</td>\n",
       "      <td>0</td>\n",
       "    </tr>\n",
       "    <tr>\n",
       "      <th>57</th>\n",
       "      <td>4.9</td>\n",
       "      <td>2.4</td>\n",
       "      <td>3.3</td>\n",
       "      <td>1.0</td>\n",
       "      <td>1</td>\n",
       "    </tr>\n",
       "  </tbody>\n",
       "</table>\n",
       "</div>"
      ],
      "text/plain": [
       "    sepal length (cm)  sepal width (cm)  petal length (cm)  petal width (cm)  \\\n",
       "98                5.1               2.5                3.0               1.1   \n",
       "64                5.6               2.9                3.6               1.3   \n",
       "43                5.0               3.5                1.6               0.6   \n",
       "23                5.1               3.3                1.7               0.5   \n",
       "57                4.9               2.4                3.3               1.0   \n",
       "\n",
       "    CLASS  \n",
       "98      1  \n",
       "64      1  \n",
       "43      0  \n",
       "23      0  \n",
       "57      1  "
      ]
     },
     "execution_count": 29,
     "metadata": {},
     "output_type": "execute_result"
    }
   ],
   "source": [
    "# [9]\n",
    "# Display with a data frame object (iloc functionality)\n",
    "ir.iloc[[98, 64, 43, 23, 57],] "
   ]
  },
  {
   "cell_type": "markdown",
   "metadata": {},
   "source": [
    "Displayes 5 most nearest numbers (98, 64, 43, 23, 57) and 5 most nearest records as well as a class. Class defines how many nearest neighbors belong to a particular category."
   ]
  },
  {
   "cell_type": "markdown",
   "metadata": {},
   "source": [
    "##### How my code works...\n",
    "\n",
    "<i> Steps I took to develop this </i>\n",
    "\n",
    "1) Import libraries  <br>\n",
    "2) Load the Iris data and manually create a differant class  <br>\n",
    "3) Get 5 most nearest instance points & assign to nearest neighbor <br>\n",
    "4) Print out table using the descibe command  <br>\n",
    "5) Implement 1 Test data containing sepal length, sepal width, petal length and petal width <br>\n",
    "6) Reset to 2D metrics  <br>\n",
    "7) Get 5 nearest neighbors with respect to dataset\n",
    "8) Display with a data frame object (iloc functionality)"
   ]
  },
  {
   "cell_type": "markdown",
   "metadata": {},
   "source": [
    "##### Referances\n",
    "\n",
    "[1] Wikipedia; Iris flower data set;\n",
    "\n",
    "https://en.wikipedia.org/wiki/Iris_flower_data_set\n",
    "\n",
    "[2] Iris Dataset; 2. Display Iris Dataset;\n",
    "\n",
    "https://www.ritchieng.com/machine-learning-iris-dataset/\n",
    "\n",
    "[3] Iris Dataset; 5. Machine learning terminology;\n",
    "\n",
    "https://www.ritchieng.com/machine-learning-iris-dataset/\n",
    "\n",
    "[4] Scikit-learn; The Iris Dataset; \n",
    "\n",
    "https://scikit-learn.org/stable/auto_examples/datasets/plot_iris_dataset.html\n",
    "\n",
    "[5] Medium; PREDICTING IRIS FLOWER SPECIES WITH K-MEANS CLUSTERING IN PYTHON;\n",
    "\n",
    "https://medium.com/@belen.sanchez27/predicting-iris-flower-species-with-k-means-clustering-in-python-f6e46806aaee\n",
    "\n",
    "[6] Matplotlib; Chooding Colormaps in Matplotlib;\n",
    "\n",
    "https://matplotlib.org/3.1.0/tutorials/colors/colormaps.html\n",
    "\n",
    "[7] YouTube; Machine Learning K Nearest Neighbour in Scikit Learn on Iris Dataset Part 3;\n",
    "\n",
    "https://www.youtube.com/watch?v=u-XWRbGuz9c\n",
    "\n",
    "[8] skikit learn; Nearest Neighbors;\n",
    "\n",
    "https://scikit-learn.org/stable/modules/classes.html#module-sklearn.neighbors\n",
    "\n",
    "[9] stackoverflow; AttributeError: 'DataFrame' object has noattribute 'ix';\n",
    "\n",
    "https://stackoverflow.com/a/60698350"
   ]
  },
  {
   "cell_type": "markdown",
   "metadata": {},
   "source": [
    "***\n",
    "\n",
    "End of task 4\n",
    "\n",
    "***"
   ]
  }
 ],
 "metadata": {
  "kernelspec": {
   "display_name": "Python 3",
   "language": "python",
   "name": "python3"
  },
  "language_info": {
   "codemirror_mode": {
    "name": "ipython",
    "version": 3
   },
   "file_extension": ".py",
   "mimetype": "text/x-python",
   "name": "python",
   "nbconvert_exporter": "python",
   "pygments_lexer": "ipython3",
   "version": "3.8.3"
  }
 },
 "nbformat": 4,
 "nbformat_minor": 4
}
