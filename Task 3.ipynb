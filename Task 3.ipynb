{
 "cells": [
  {
   "cell_type": "markdown",
   "metadata": {},
   "source": [
    "##### BSc (Hons) in Computing in Software Development\n",
    "##### Emerging Teschnolgies Task 3\n",
    "###### Grace Keane - G00359990\n",
    "\n",
    "---\n",
    "\n",
    "\n",
    "###### Task:"
   ]
  },
  {
   "cell_type": "markdown",
   "metadata": {},
   "source": [
    "The standard deviation of an array of numbers $x$ is calculated using numpy as np.sqrt(np.sum((x - np.mean(x))**2)/len(x)).\n",
    "However, Microsoft Excel has two different versions of the standard deviation calculation, STDDEV.P and STDDEV.S . The STDDEV.P function performs the above calculation but in the STDDEV.S calculation the division is by len(x)-1 rather than len(x). Research these Excel functions, writing a note in a Markdown cell about the difference between them. Then use numpy to perform a simulation demonstrating that the STDDEV.S calculation is a better estimate for the standard deviation of a population when performed on a sample. Note that part of this task is to figure out the terminology in the previous sentence. \n",
    "\n",
    "<br></br>"
   ]
  },
  {
   "cell_type": "markdown",
   "metadata": {},
   "source": [
    "###### Research\n"
   ]
  },
  {
   "cell_type": "markdown",
   "metadata": {},
   "source": [
    "###### Standard Deviation\n",
    "\n",
    "In statistics, the standard deviation is a measure of the amount of variation or dispersion of a set of values.[1] A low standard deviation indicates that the values tend to be close to the mean (also called the expected value) of the set, while a high standard deviation indicates that the values are spread out over a wider range. [5] It is represented as STDDEV in excel."
   ]
  },
  {
   "cell_type": "markdown",
   "metadata": {},
   "source": [
    "###### Differance between STDDEV.S and STDDEV.P \n",
    "\n",
    "<b> STDDEV.S </b> <br> \n",
    "The STDDEV.S function calculates the standard deviation of a sample set of data. The STDEV.S function is meant to estimate standard deviation in a sample data set. [1]\n",
    "\n",
    "<b> STDDEV.P </b> <br>\n",
    "The STDDEV. P function calculates the standard deviation of an entire population. The STDEV. P function is meant to estimate standard deviation for an entire population. [2]"
   ]
  },
  {
   "cell_type": "markdown",
   "metadata": {},
   "source": [
    "###### Population Deviation Code"
   ]
  },
  {
   "cell_type": "code",
   "execution_count": 1,
   "metadata": {},
   "outputs": [
    {
     "name": "stdout",
     "output_type": "stream",
     "text": [
      "1.4142135623730951\n"
     ]
    }
   ],
   "source": [
    "# [4]\n",
    "import numpy as np\n",
    "print(np.std(np.array([1, 2, 3, 4, 5])))"
   ]
  },
  {
   "cell_type": "markdown",
   "metadata": {},
   "source": [
    "###### Sample Deviation Code"
   ]
  },
  {
   "cell_type": "code",
   "execution_count": 2,
   "metadata": {},
   "outputs": [
    {
     "name": "stdout",
     "output_type": "stream",
     "text": [
      "1.5811388300841898\n"
     ]
    }
   ],
   "source": [
    "# [4]\n",
    "import numpy as np\n",
    "print(np.std(np.array([1, 2, 3, 4, 5]), ddof=1))"
   ]
  },
  {
   "cell_type": "markdown",
   "metadata": {},
   "source": [
    "###### Testing if sample deviation is a better estimate for the standard deviation of a population when performed on a sample."
   ]
  },
  {
   "cell_type": "code",
   "execution_count": 3,
   "metadata": {},
   "outputs": [
    {
     "name": "stdout",
     "output_type": "stream",
     "text": [
      "Standard Deviation of sample is 1.5811388300841898 \n"
     ]
    }
   ],
   "source": [
    "# Python code to demonstrate stdev() function \n",
    "  \n",
    "# importing Statistics module \n",
    "import statistics \n",
    "  \n",
    "# creating a simple data - set \n",
    "testData = [1, 2, 3, 4, 5] \n",
    "  \n",
    "# Prints standard deviation \n",
    "# xbar is set to default value of 1 \n",
    "print(\"Standard Deviation of sample is % s \"% (statistics.stdev(testData))) "
   ]
  },
  {
   "cell_type": "markdown",
   "metadata": {},
   "source": [
    "###### Conclusion"
   ]
  },
  {
   "cell_type": "markdown",
   "metadata": {},
   "source": [
    "Since the test data above is equal to the exact same answer as my sample deviation method, this shows that STDDEV.S calculation is a better estimate for the standard deviation of a population when performed on a sample rather than STDDEV.P."
   ]
  },
  {
   "cell_type": "markdown",
   "metadata": {},
   "source": [
    "###### Referances\n",
    "\n",
    "[1] EXCELJET; Usage notes;\n",
    "\n",
    "https://exceljet.net/excel-functions/excel-stdev.s-function#:~:text=The%20STDEV.,The%20STDEV.\n",
    "\n",
    "[2] EXCELJEC; Usage notes\n",
    "\n",
    "https://exceljet.net/excel-functions/excel-stdev.p-function#:~:text=The%20STDEV.,deviation%20for%20an%20entire%20population.\n",
    "\n",
    "[3] GeeksForGeeks; stdev() method in Python statistics module;\n",
    "\n",
    "https://www.geeksforgeeks.org/python-statistics-stdev/\n",
    "\n",
    "[4] Stackoverflow; Standard deviation in numpy [duplicate]\n",
    "\n",
    "https://stackoverflow.com/questions/34050491/standard-deviation-in-numpy\n",
    "\n",
    "[5] Wikipedia; Standard deviation;\n",
    "\n",
    "https://en.wikipedia.org/wiki/Standard_deviation\n"
   ]
  }
 ],
 "metadata": {
  "kernelspec": {
   "display_name": "Python 3",
   "language": "python",
   "name": "python3"
  },
  "language_info": {
   "codemirror_mode": {
    "name": "ipython",
    "version": 3
   },
   "file_extension": ".py",
   "mimetype": "text/x-python",
   "name": "python",
   "nbconvert_exporter": "python",
   "pygments_lexer": "ipython3",
   "version": "3.8.3"
  }
 },
 "nbformat": 4,
 "nbformat_minor": 4
}
